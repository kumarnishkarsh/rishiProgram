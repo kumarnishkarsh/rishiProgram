{
 "cells": [
  {
   "cell_type": "code",
   "execution_count": 3,
   "metadata": {},
   "outputs": [
    {
     "name": "stdout",
     "output_type": "stream",
     "text": [
      "Which Program do you want to run ? : 3 sides given and triangle check or 2 sides given and 3rd side range , Please enter 3 for the 1st one and 2 for 2nd one. :  2\n",
      "  \n",
      "  \n",
      "Please enter the 1st side length of triangle :8\n",
      "Please enter the 2nd side length of triangle :7\n",
      "The range is : 1 to 14\n"
     ]
    }
   ],
   "source": [
    "# A program to get a triangle's 3rd side's range \n",
    "# and to check whether a triangle lengths are valid \n",
    "# By : Nishkarsh Kumar , Date : 26th April 2020\n",
    "def sidegivencheck() :\n",
    "    side1 = int(input(\"Please enter the 1st side length of triangle :\"))\n",
    "    side2 = int(input(\"Please enter the 2nd side length of triangle :\"))\n",
    "    side3 = int(input(\"Please enter the 3rd side length of triangle :\"))\n",
    "    if side1 + side2 > side3  and  side1 + side3 > side2  and  side2 + side3 > side1:\n",
    "        print(\"Triangle is valid\")\n",
    "    else :\n",
    "        print(\"Wrong sides ! , Triangle isn't valid.\")\n",
    "        \n",
    "def range3rdside() :\n",
    "     side1 = input(\"Please enter the 1st side length of triangle :\")\n",
    "     side2 = input(\"Please enter the 2nd side length of triangle :\") \n",
    "     if side1 > side2 :\n",
    "        larger = side1\n",
    "        smaller = side2\n",
    "     else :\n",
    "        larger = side2 \n",
    "        smaller = side1\n",
    "     larger = int(larger)\n",
    "     smaller = int(smaller)\n",
    "     range1 = larger - smaller\n",
    "     range2 = smaller + larger\n",
    "     print(\"The range is :\" , range1 , \"to\" , range2 - 1)\n",
    "    \n",
    "programename = input(\"Which Program do you want to run ? : 3 sides given and triangle check or 2 sides given and 3rd side range , Please enter 3 for the 1st one and 2 for 2nd one. :  \")\n",
    "programname = str(programename)\n",
    "print(\"  \")\n",
    "print(\"  \")\n",
    "if programename == \"2\" :\n",
    "    range3rdside()    \n",
    "elif programename == \"3\" :\n",
    "    sidegivencheck()    \n",
    "else :\n",
    "    print(\"You entered something else.\")"
   ]
  }
 ],
 "metadata": {
  "kernelspec": {
   "display_name": "Python 3",
   "language": "python",
   "name": "python3"
  },
  "language_info": {
   "codemirror_mode": {
    "name": "ipython",
    "version": 3
   },
   "file_extension": ".py",
   "mimetype": "text/x-python",
   "name": "python",
   "nbconvert_exporter": "python",
   "pygments_lexer": "ipython3",
   "version": "3.7.0"
  }
 },
 "nbformat": 4,
 "nbformat_minor": 2
}
