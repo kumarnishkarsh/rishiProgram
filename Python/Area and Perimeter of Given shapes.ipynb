{
 "cells": [
  {
   "cell_type": "code",
   "execution_count": 40,
   "metadata": {},
   "outputs": [
    {
     "name": "stdout",
     "output_type": "stream",
     "text": [
      "Please give the shape name : Enter 1 for (1) Parallelogram , 2 for (2) Circle , 3 for (3) Triangle.3\n",
      "Please enter the 1st side length of triangle :3\n",
      "Please enter the 2nd side length of triangle :4\n",
      "Please enter the 3rd side length of triangle :5\n",
      "Please enter the height of Triangle.5\n",
      "Please enter the base height.4\n",
      "Area of Triange is  10.0 unit²\n",
      "Perimeter of Triangle is  12\n"
     ]
    }
   ],
   "source": [
    "# Program to Get the Area and Perimeter of given shapes.\n",
    "#By Nishkarsh Kumar Date : 3rd May 2020\n",
    "def aop() :\n",
    "  base = input(\"Please enter the length of base/breadth.\")\n",
    "  base = int(base)\n",
    "  height = input(\"Please enter the length of height.\")\n",
    "  height = int(height)\n",
    "  length = input(\"Please enter the length.\")\n",
    "  length = int(length)\n",
    "  areaofpara = base * height\n",
    "  periofpara = 2*(base + length)\n",
    "  print(\"Area of The Parallelogram is \" , areaofpara , \"unit²\")\n",
    "  print(\"Perimeter of The Parallelogram is \" , periofpara)\n",
    "\n",
    "def aoc() :\n",
    "  pi = 22/7\n",
    "  radius = input(\"Please enter the length of radius.\")\n",
    "  radius = int(radius)\n",
    "  areaofcircle = pi*radius*radius\n",
    "  areaofcircle = round(areaofcircle,2)\n",
    "  periofcircle = 2*pi*radius\n",
    "  periofcircle = round(periofcircle,2)\n",
    "  print(\"Area of The Cirlce is \" , areaofcircle , \"unit²\")\n",
    "  print(\"Perimeter of The Circle is \" , periofcircle)\n",
    "\n",
    "def aot() :\n",
    "  side1 = input(\"Please enter the 1st side length of triangle :\")\n",
    "  side2 = input(\"Please enter the 2nd side length of triangle :\")\n",
    "  side3 = input(\"Please enter the 3rd side length of triangle :\")\n",
    "  side1 = int(side1)\n",
    "  side2 = int(side2)\n",
    "  side3 = int(side3)\n",
    "  if side1 + side2 > side3  and  side1 + side3 > side2  and  side2 + side3 > side1:\n",
    "      height = input(\"Please enter the height of Triangle.\")\n",
    "      height = int(height)\n",
    "      base = input(\"Please enter the base height.\")\n",
    "      base = int(base)\n",
    "      if base == side1 or base == side2 or base == side3 :\n",
    "        areaoftri = 1/2*base*height\n",
    "        perioftri = side1 + side2 + side3\n",
    "        print(\"Area of Triange is \" , areaoftri , \"unit²\")\n",
    "        print(\"Perimeter of Triangle is \" , perioftri)\n",
    "      else :\n",
    "        print(\"Base can't be other than side\")\n",
    "  else :\n",
    "      print(\"Wrong sides ! , Triangle isn't valid.\")\n",
    "\n",
    "shape = input(\"Please give the shape name : Enter 1 for (1) Parallelogram , 2 for (2) Circle , 3 for (3) Triangle.\")\n",
    "if shape == \"1\" :\n",
    "  aop()\n",
    "elif shape == \"2\" :\n",
    "  aoc()\n",
    "elif shape == \"3\" :\n",
    "  aot()\n",
    "else :\n",
    "  print(\"Please read the first line again.\")"
   ]
  },
  {
   "cell_type": "code",
   "execution_count": null,
   "metadata": {},
   "outputs": [],
   "source": []
  }
 ],
 "metadata": {
  "kernelspec": {
   "display_name": "Python 3",
   "language": "python",
   "name": "python3"
  },
  "language_info": {
   "codemirror_mode": {
    "name": "ipython",
    "version": 3
   },
   "file_extension": ".py",
   "mimetype": "text/x-python",
   "name": "python",
   "nbconvert_exporter": "python",
   "pygments_lexer": "ipython3",
   "version": "3.7.0"
  }
 },
 "nbformat": 4,
 "nbformat_minor": 2
}
