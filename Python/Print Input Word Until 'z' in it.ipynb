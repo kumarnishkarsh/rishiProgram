{
 "cells": [
  {
   "cell_type": "code",
   "execution_count": 30,
   "metadata": {},
   "outputs": [
    {
     "name": "stdout",
     "output_type": "stream",
     "text": [
      "Enter a word :Rishi\n",
      "R i s h i Enter a word :Benazeer\n",
      "B e n a \n",
      "Z is not allowed.\n"
     ]
    }
   ],
   "source": [
    "# Keep on taking words from user until you have a word which has 'z' in it. 28 March 2020 By Nishkarsh Kumar\n",
    "num = 1\n",
    "while num < 2:\n",
    "    w = input(\"Enter a word :\")\n",
    "\n",
    "    for l in w:\n",
    "         if l == \"z\" or l == \"Z\" :\n",
    "            num = 2  \n",
    "            print()\n",
    "            print(\"Z is not allowed.\")\n",
    "            break\n",
    "         else:\n",
    "            print(l , end = ' ')\n",
    "            "
   ]
  },
  {
   "cell_type": "code",
   "execution_count": null,
   "metadata": {},
   "outputs": [],
   "source": []
  }
 ],
 "metadata": {
  "kernelspec": {
   "display_name": "Python 3",
   "language": "python",
   "name": "python3"
  },
  "language_info": {
   "codemirror_mode": {
    "name": "ipython",
    "version": 3
   },
   "file_extension": ".py",
   "mimetype": "text/x-python",
   "name": "python",
   "nbconvert_exporter": "python",
   "pygments_lexer": "ipython3",
   "version": "3.7.0"
  }
 },
 "nbformat": 4,
 "nbformat_minor": 2
}
