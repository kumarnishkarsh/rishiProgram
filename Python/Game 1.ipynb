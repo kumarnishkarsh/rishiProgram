{
 "cells": [
  {
   "cell_type": "code",
   "execution_count": 7,
   "metadata": {},
   "outputs": [
    {
     "name": "stdout",
     "output_type": "stream",
     "text": [
      "Expression :3+2  Please enter the answer :5\n",
      "Correct answer is : 5\n",
      "Good\n",
      "Marks : 1\n",
      "Expression :8+9  Please enter the answer :17\n",
      "Correct answer is : 17\n",
      "Good\n",
      "Marks : 2\n",
      "Expression :7+9  Please enter the answer :16\n",
      "Correct answer is : 16\n",
      "Good\n",
      "Marks : 3\n",
      "Final marks : 3\n"
     ]
    }
   ],
   "source": [
    "# Program to play a game of maths in which you will get addition sums and you have to write correct answer.  By : Nishkarsh Kumar 31st March 2020\n",
    "import random\n",
    "a = 0\n",
    "for i in range(1,4):\n",
    "     \n",
    "  num1 = random.randrange(0, 10)\n",
    "  num2 = random.randrange(0, 10)\n",
    "   \n",
    "  ans = input(\"Expression :\" + str(num1) + \"+\" + str(num2) + \"  \" + \"Please enter the answer :\")\n",
    "    \n",
    "  ans = int(ans)\n",
    "  realans = num1 + num2  \n",
    "  print(\"Correct answer is :\" , realans)\n",
    "\n",
    "  if ans == realans:\n",
    "     a = a + 1\n",
    "     print(\"Good\")\n",
    "     print(\"Marks :\" ,  a)\n",
    "  else:\n",
    "     a = a - 1\n",
    "     print(\"Wrong\") \n",
    "     print(\"Marks :\" , a)\n",
    "     print(\" \")\n",
    "print(\"Final marks :\" , a)\n",
    "\n"
   ]
  },
  {
   "cell_type": "code",
   "execution_count": null,
   "metadata": {},
   "outputs": [],
   "source": []
  },
  {
   "cell_type": "code",
   "execution_count": null,
   "metadata": {},
   "outputs": [],
   "source": []
  },
  {
   "cell_type": "code",
   "execution_count": null,
   "metadata": {},
   "outputs": [],
   "source": []
  },
  {
   "cell_type": "code",
   "execution_count": null,
   "metadata": {},
   "outputs": [],
   "source": []
  }
 ],
 "metadata": {
  "kernelspec": {
   "display_name": "Python 3",
   "language": "python",
   "name": "python3"
  },
  "language_info": {
   "codemirror_mode": {
    "name": "ipython",
    "version": 3
   },
   "file_extension": ".py",
   "mimetype": "text/x-python",
   "name": "python",
   "nbconvert_exporter": "python",
   "pygments_lexer": "ipython3",
   "version": "3.7.0"
  }
 },
 "nbformat": 4,
 "nbformat_minor": 2
}
