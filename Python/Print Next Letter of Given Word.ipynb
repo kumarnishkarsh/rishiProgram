{
 "cells": [
  {
   "cell_type": "code",
   "execution_count": 1,
   "metadata": {},
   "outputs": [
    {
     "name": "stdout",
     "output_type": "stream",
     "text": [
      "Enter a word :Rishi\n",
      "Word : Rishi\n",
      " \n",
      "Letter : R\n",
      "Next Letter of R is : S\n",
      " \n",
      "Letter : i\n",
      "Next Letter of i is : j\n",
      " \n",
      "Letter : s\n",
      "Next Letter of s is : t\n",
      " \n",
      "Letter : h\n",
      "Next Letter of h is : i\n",
      " \n",
      "Letter : i\n",
      "Next Letter of i is : j\n",
      " \n"
     ]
    }
   ],
   "source": [
    "# This program is to print next letter of given word : 30th March 2020 By Nishkarsh Kumar\n",
    "word = input(\"Enter a word :\")\n",
    "print(\"Word :\" , word)\n",
    "print(\" \")\n",
    "for l in word:\n",
    "    if l == \"z\" :\n",
    "      print(\"Letter :\" , l)\n",
    "      print(\"Next letter of z is : a\") \n",
    "    elif l == \"Z\" :\n",
    "      print(\"Letter :\" , l)\n",
    "      print(\"Next letter of Z is : A\")\n",
    "    else:\n",
    "      nex = chr(ord(l) + 1)\n",
    "      print(\"Letter :\" , l)\n",
    "      print(\"Next Letter of\" , l , \"is :\" , nex)\n",
    "      print(\" \")\n"
   ]
  },
  {
   "cell_type": "code",
   "execution_count": null,
   "metadata": {},
   "outputs": [],
   "source": []
  }
 ],
 "metadata": {
  "kernelspec": {
   "display_name": "Python 3",
   "language": "python",
   "name": "python3"
  },
  "language_info": {
   "codemirror_mode": {
    "name": "ipython",
    "version": 3
   },
   "file_extension": ".py",
   "mimetype": "text/x-python",
   "name": "python",
   "nbconvert_exporter": "python",
   "pygments_lexer": "ipython3",
   "version": "3.7.0"
  }
 },
 "nbformat": 4,
 "nbformat_minor": 2
}
