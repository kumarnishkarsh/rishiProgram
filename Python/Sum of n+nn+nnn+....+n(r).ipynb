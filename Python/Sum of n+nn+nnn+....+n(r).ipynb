{
 "cells": [
  {
   "cell_type": "code",
   "execution_count": 6,
   "metadata": {},
   "outputs": [
    {
     "name": "stdout",
     "output_type": "stream",
     "text": [
      "Enter a number :5\n",
      "Enter the repeat count :3\n",
      "The number is : 5\n",
      "Repeat count is : 3\n",
      "5\n",
      "55\n",
      "555\n",
      "The result is : 615\n"
     ]
    }
   ],
   "source": [
    "#This program is to add expression like n + nn + nnn + .....(nr) : 25th March 2020 By Nishkarsh Kumar\n",
    "num = input(\"Enter a number :\")\n",
    "rep = input(\"Enter the repeat count :\")\n",
    "num = int(num)      #Datatype Conversion\n",
    "rep = int(rep)      #Datatype Conversion\n",
    "\n",
    "print(\"The number is :\" , num)\n",
    "print(\"Repeat count is :\" , rep)\n",
    "\n",
    "conc = 1\n",
    "conc = str(conc)   # Datatype Conversion\n",
    "add = 0\n",
    "\n",
    "for loop in range(1,rep+1):  #Start of for loop  \n",
    "    nu = conc*loop           # to get 1,11,111 etc.\n",
    "    nu = int(nu)             #Datatype Conversion for further calculations\n",
    "    x = num * nu             # to get n,nn,nnn etc.\n",
    "    print(x)                 # Will display n,nn,nnn,nnnn,nnnn............\n",
    "    x = int(x)               \n",
    "    add = add + x\n",
    "print(\"The result is :\" , add) # Final result"
   ]
  },
  {
   "cell_type": "code",
   "execution_count": null,
   "metadata": {},
   "outputs": [],
   "source": []
  },
  {
   "cell_type": "code",
   "execution_count": null,
   "metadata": {},
   "outputs": [],
   "source": []
  }
 ],
 "metadata": {
  "kernelspec": {
   "display_name": "Python 3",
   "language": "python",
   "name": "python3"
  },
  "language_info": {
   "codemirror_mode": {
    "name": "ipython",
    "version": 3
   },
   "file_extension": ".py",
   "mimetype": "text/x-python",
   "name": "python",
   "nbconvert_exporter": "python",
   "pygments_lexer": "ipython3",
   "version": "3.7.0"
  }
 },
 "nbformat": 4,
 "nbformat_minor": 2
}
