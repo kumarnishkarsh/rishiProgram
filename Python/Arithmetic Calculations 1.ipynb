{
 "cells": [
  {
   "cell_type": "code",
   "execution_count": 13,
   "metadata": {},
   "outputs": [
    {
     "name": "stdout",
     "output_type": "stream",
     "text": [
      "Enter a number :5\n",
      "Number is : 5\n",
      "Result is : 615\n"
     ]
    }
   ],
   "source": [
    "# accepts an integer (n) and computes the value of n + nn + nnn\n",
    "\n",
    "n = input(\"Enter a number :\")\n",
    "print(\"Number is :\",n)\n",
    "\n",
    "n = int(n)\n",
    "result = n + 11*n + 111*n\n",
    "\n",
    "print(\"Result is :\",result)"
   ]
  },
  {
   "cell_type": "code",
   "execution_count": 14,
   "metadata": {},
   "outputs": [
    {
     "name": "stdout",
     "output_type": "stream",
     "text": [
      "Enter a number :9\n",
      "Number : 9\n",
      "Result is : 819\n"
     ]
    }
   ],
   "source": [
    "num = input(\"Enter a number :\")\n",
    "print(\"Number :\",num)\n",
    "\n",
    "n = int(num)\n",
    "result = n + n*n + n*n*n\n",
    "\n",
    "print(\"Result is :\",result)"
   ]
  },
  {
   "cell_type": "code",
   "execution_count": 9,
   "metadata": {},
   "outputs": [
    {
     "name": "stdout",
     "output_type": "stream",
     "text": [
      "The sum of both the numbers is 125\n"
     ]
    }
   ],
   "source": [
    "num_1,num_2 = 58,67\n",
    "\n",
    "result = num_1 + num_2\n",
    "\n",
    "print(\"The sum of both the numbers is\",result)"
   ]
  }
 ],
 "metadata": {
  "kernelspec": {
   "display_name": "Python 3",
   "language": "python",
   "name": "python3"
  },
  "language_info": {
   "codemirror_mode": {
    "name": "ipython",
    "version": 3
   },
   "file_extension": ".py",
   "mimetype": "text/x-python",
   "name": "python",
   "nbconvert_exporter": "python",
   "pygments_lexer": "ipython3",
   "version": "3.7.0"
  }
 },
 "nbformat": 4,
 "nbformat_minor": 2
}
