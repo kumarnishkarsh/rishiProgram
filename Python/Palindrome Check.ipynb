{
 "cells": [
  {
   "cell_type": "code",
   "execution_count": 3,
   "metadata": {},
   "outputs": [
    {
     "name": "stdout",
     "output_type": "stream",
     "text": [
      "Enter a string or number :Madam\n",
      "madam is palindrome.\n"
     ]
    }
   ],
   "source": [
    "# To find whether a number or string is palindrome or not\n",
    "\n",
    "num = input(\"Enter a string or number :\")\n",
    "\n",
    "numpal = num[: :-1]\n",
    "num = num.lower()\n",
    "numpal = numpal.lower()\n",
    "if num == numpal:\n",
    "    print(num,\"is palindrome.\")\n",
    "else:\n",
    "    print(num,\"is not palindrome\")"
   ]
  },
  {
   "cell_type": "code",
   "execution_count": null,
   "metadata": {},
   "outputs": [],
   "source": []
  }
 ],
 "metadata": {
  "kernelspec": {
   "display_name": "Python 3",
   "language": "python",
   "name": "python3"
  },
  "language_info": {
   "codemirror_mode": {
    "name": "ipython",
    "version": 3
   },
   "file_extension": ".py",
   "mimetype": "text/x-python",
   "name": "python",
   "nbconvert_exporter": "python",
   "pygments_lexer": "ipython3",
   "version": "3.7.0"
  }
 },
 "nbformat": 4,
 "nbformat_minor": 2
}
