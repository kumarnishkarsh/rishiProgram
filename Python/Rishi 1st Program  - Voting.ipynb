{
 "cells": [
  {
   "cell_type": "code",
   "execution_count": 8,
   "metadata": {},
   "outputs": [
    {
     "name": "stdout",
     "output_type": "stream",
     "text": [
      "Your name : Rishi\n",
      "Your age : 15\n",
      "Rishi cannot vote.\n"
     ]
    }
   ],
   "source": [
    "name = \"Rishi\"\n",
    "age = 15\n",
    "\n",
    "print(\"Your name :\" , name)\n",
    "print(\"Your age :\" , age)\n",
    "\n",
    "if age >= 18:\n",
    "    print(name , \"can vote.\")\n",
    "else:\n",
    "    print(name , \"cannot vote.\")"
   ]
  },
  {
   "cell_type": "code",
   "execution_count": 12,
   "metadata": {},
   "outputs": [
    {
     "name": "stdout",
     "output_type": "stream",
     "text": [
      "What is your name ?Neeraj\n",
      "What is your age ?35\n",
      "Your name : Neeraj\n",
      "Your age : 35\n",
      "Neeraj can vote.\n"
     ]
    }
   ],
   "source": [
    "name = input(\"What is your name ?\")\n",
    "age = input(\"What is your age ?\")\n",
    "print(\"Your name :\" , name)\n",
    "print(\"Your age :\" , age)\n",
    "age = int(age)\n",
    "if age >= 18:\n",
    "    print(name , \"can vote.\")\n",
    "else:\n",
    "    print(name , \"cannot vote.\")"
   ]
  },
  {
   "cell_type": "code",
   "execution_count": null,
   "metadata": {},
   "outputs": [],
   "source": []
  },
  {
   "cell_type": "code",
   "execution_count": null,
   "metadata": {},
   "outputs": [],
   "source": []
  }
 ],
 "metadata": {
  "kernelspec": {
   "display_name": "Python 3",
   "language": "python",
   "name": "python3"
  },
  "language_info": {
   "codemirror_mode": {
    "name": "ipython",
    "version": 3
   },
   "file_extension": ".py",
   "mimetype": "text/x-python",
   "name": "python",
   "nbconvert_exporter": "python",
   "pygments_lexer": "ipython3",
   "version": "3.7.0"
  }
 },
 "nbformat": 4,
 "nbformat_minor": 2
}
