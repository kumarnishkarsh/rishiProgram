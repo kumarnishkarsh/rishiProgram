{
 "cells": [
  {
   "cell_type": "code",
   "execution_count": 8,
   "metadata": {},
   "outputs": [
    {
     "name": "stdout",
     "output_type": "stream",
     "text": [
      "Enter the base number :2\n",
      "Enter the power :4\n",
      "  \n",
      "2 to the power 4 is 16\n",
      "   \n",
      "Enter the base number :3\n",
      "Enter the power :3\n",
      "Answer is : 27\n",
      "    \n",
      "    \n",
      "Enter the base number :5\n",
      "Enter the power :3\n",
      "Base =  5\n",
      "Power =  3\n",
      "Answer is : 125\n",
      "      \n",
      " \n"
     ]
    }
   ],
   "source": [
    "# Program to give the value of base to the power. By :Nishkarsh Kumar. Date: 5 April 2020\n",
    "\n",
    "# Part 1: With Calculations\n",
    "base = input(\"Enter the base number :\")\n",
    "power = input(\"Enter the power :\")\n",
    "def power_base(base , power) :\n",
    "  base = int(base)\n",
    "  power = int(power)\n",
    "  ans = base ** power\n",
    "  print(\"  \")\n",
    "  print(base , \"to the power\" , power , \"is\" , ans)\n",
    "  print(\"   \")\n",
    "\n",
    "power_base(base , power)\n",
    "\n",
    "# Part 2: With While Loop\n",
    "base = input(\"Enter the base number :\")\n",
    "power = input(\"Enter the power :\")\n",
    "def base_power(base , power) :\n",
    "  i = 1\n",
    "  power = int(power)\n",
    "  base = int(base)\n",
    "\n",
    "  ans = base * base\n",
    "  while i < power - 1 :\n",
    "    ans = ans * base\n",
    "    i = i + 1\n",
    "  print(\"Answer is :\" , ans)\n",
    "  print(\"    \")\n",
    "  print(\"    \")\n",
    "  \n",
    "base_power(base , power)  \n",
    "\n",
    "# Part 3: With For Loop\n",
    "base = input(\"Enter the base number :\")\n",
    "power = input(\"Enter the power :\")\n",
    "def base2_power2(base , power) :\n",
    "  power = int(power)\n",
    "  base = int(base)\n",
    "  print(\"Base = \" , base)\n",
    "  print(\"Power = \" , power)  \n",
    "  x = base\n",
    "  for i in range(1 , power) :\n",
    "    x = x * base\n",
    "  print(\"Answer is :\" , x)\n",
    "  print(\"      \")\n",
    "  print(\" \")\n",
    "\n",
    "base2_power2(base , power)"
   ]
  },
  {
   "cell_type": "code",
   "execution_count": null,
   "metadata": {},
   "outputs": [],
   "source": []
  }
 ],
 "metadata": {
  "kernelspec": {
   "display_name": "Python 3",
   "language": "python",
   "name": "python3"
  },
  "language_info": {
   "codemirror_mode": {
    "name": "ipython",
    "version": 3
   },
   "file_extension": ".py",
   "mimetype": "text/x-python",
   "name": "python",
   "nbconvert_exporter": "python",
   "pygments_lexer": "ipython3",
   "version": "3.7.0"
  }
 },
 "nbformat": 4,
 "nbformat_minor": 2
}
