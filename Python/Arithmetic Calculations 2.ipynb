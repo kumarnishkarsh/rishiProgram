{
 "cells": [
  {
   "cell_type": "code",
   "execution_count": 8,
   "metadata": {},
   "outputs": [
    {
     "name": "stdout",
     "output_type": "stream",
     "text": [
      "Enter a number :69\n",
      "Enter another number :45\n",
      "Numbers entered : 69 , 45\n",
      " \n",
      "Addition is  114\n",
      "Subtraction is  24\n",
      "Multiplication is  3105\n",
      "Division is  1.5333333333333334\n"
     ]
    }
   ],
   "source": [
    "num = input(\"Enter a number :\")\n",
    "NUM = input(\"Enter another number :\")\n",
    "\n",
    "print(\"Numbers entered :\" , num , \",\" , NUM)\n",
    "\n",
    "NUM = int(NUM)\n",
    "num = int(num)\n",
    "\n",
    "if num > NUM:\n",
    "    larger = num\n",
    "    smaller = NUM\n",
    "else:\n",
    "    larger = NUM\n",
    "    smaller = num\n",
    "\n",
    "div = num / NUM\n",
    "divfloat = float(div)\n",
    "\n",
    "print(\" \")\n",
    "\n",
    "print(\"Addition is \" ,  num + NUM)\n",
    "print(\"Subtraction is \" ,  larger - smaller)\n",
    "print(\"Multiplication is \" ,  num * NUM)\n",
    "print(\"Division is \" ,  divfloat)"
   ]
  },
  {
   "cell_type": "code",
   "execution_count": null,
   "metadata": {},
   "outputs": [],
   "source": []
  },
  {
   "cell_type": "code",
   "execution_count": null,
   "metadata": {},
   "outputs": [],
   "source": []
  }
 ],
 "metadata": {
  "kernelspec": {
   "display_name": "Python 3",
   "language": "python",
   "name": "python3"
  },
  "language_info": {
   "codemirror_mode": {
    "name": "ipython",
    "version": 3
   },
   "file_extension": ".py",
   "mimetype": "text/x-python",
   "name": "python",
   "nbconvert_exporter": "python",
   "pygments_lexer": "ipython3",
   "version": "3.7.0"
  }
 },
 "nbformat": 4,
 "nbformat_minor": 2
}
