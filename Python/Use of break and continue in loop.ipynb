{
 "cells": [
  {
   "cell_type": "code",
   "execution_count": 1,
   "metadata": {},
   "outputs": [
    {
     "name": "stdout",
     "output_type": "stream",
     "text": [
      "Enter a word :Benazeer\n",
      "Word entered : Benazeer\n",
      "B\n",
      "e\n",
      "n\n",
      "a\n",
      "z\n"
     ]
    }
   ],
   "source": [
    "# Take a name from user and print the name until there is a 'z' : 27th March 2020 By Nishkarsh Kumar\n",
    "word = input(\"Enter a word :\")\n",
    "print(\"Word entered :\" ,word)\n",
    "length = len(word)\n",
    "for w in word:\n",
    "    print(w)\n",
    "    if w == \"z\":\n",
    "        break"
   ]
  },
  {
   "cell_type": "code",
   "execution_count": 2,
   "metadata": {},
   "outputs": [
    {
     "name": "stdout",
     "output_type": "stream",
     "text": [
      "Enter a word :nishkarsh\n",
      "Enter the letter :h\n",
      "Word entered : nishkarsh\n",
      "Letter : h\n",
      "n\n",
      "i\n",
      "s\n",
      "h\n"
     ]
    }
   ],
   "source": [
    "# Take a name from user and print the name until the input letter \n",
    "word = input(\"Enter a word :\")\n",
    "letter = input(\"Enter the letter :\")\n",
    "\n",
    "print(\"Word entered :\"  , word)\n",
    "print(\"Letter :\" , letter)\n",
    "\n",
    "for w in word:\n",
    "    print(w)\n",
    "    if w == letter:\n",
    "        break"
   ]
  },
  {
   "cell_type": "code",
   "execution_count": 3,
   "metadata": {},
   "outputs": [
    {
     "name": "stdout",
     "output_type": "stream",
     "text": [
      "1\n",
      "2\n",
      "3\n"
     ]
    }
   ],
   "source": [
    "for i in range(1 , 15):\n",
    "    print(i)\n",
    "    if i == 3:\n",
    "        break"
   ]
  },
  {
   "cell_type": "code",
   "execution_count": 4,
   "metadata": {},
   "outputs": [
    {
     "name": "stdout",
     "output_type": "stream",
     "text": [
      "1\n",
      "2\n",
      "4\n",
      "5\n"
     ]
    }
   ],
   "source": [
    "for i in range(1 , 6):\n",
    "    if i == 3:\n",
    "        continue\n",
    "    print(i)"
   ]
  },
  {
   "cell_type": "code",
   "execution_count": null,
   "metadata": {},
   "outputs": [],
   "source": []
  }
 ],
 "metadata": {
  "kernelspec": {
   "display_name": "Python 3",
   "language": "python",
   "name": "python3"
  },
  "language_info": {
   "codemirror_mode": {
    "name": "ipython",
    "version": 3
   },
   "file_extension": ".py",
   "mimetype": "text/x-python",
   "name": "python",
   "nbconvert_exporter": "python",
   "pygments_lexer": "ipython3",
   "version": "3.7.0"
  }
 },
 "nbformat": 4,
 "nbformat_minor": 2
}
